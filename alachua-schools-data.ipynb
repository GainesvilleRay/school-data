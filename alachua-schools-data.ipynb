{
 "cells": [
  {
   "cell_type": "code",
   "execution_count": 5,
   "metadata": {},
   "outputs": [
    {
     "name": "stdout",
     "output_type": "stream",
     "text": [
      "Status code: 200\n",
      "dict_keys(['type', 'crs', 'features'])\n",
      "Total repositories: FeatureCollection\n"
     ]
    }
   ],
   "source": [
    "import requests\n",
    "import json\n",
    "\n",
    "url = \"http://services1.arcgis.com/MiBZ4u97DWldovjI/arcgis/rest/services/schools_services/FeatureServer/1/query?outFields=*&where=1%3D1&f=geojson\"\n",
    "r = requests.get(url)\n",
    "print(\"Status code:\", r.status_code)\n",
    "\n",
    "#store API response in a variable\n",
    "response_dict = r.json()\n",
    "print(response_dict.keys())\n",
    "print(\"Total repositories:\", response_dict[('type')])"
   ]
  },
  {
   "cell_type": "code",
   "execution_count": 13,
   "metadata": {},
   "outputs": [
    {
     "name": "stdout",
     "output_type": "stream",
     "text": [
      "Repositories returned: 24\n"
     ]
    }
   ],
   "source": [
    "#Explore info about the repositories\n",
    "repo_dicts = response_dict['features']\n",
    "print(\"Repositories returned:\", len(repo_dicts))"
   ]
  },
  {
   "cell_type": "code",
   "execution_count": 18,
   "metadata": {},
   "outputs": [
    {
     "name": "stdout",
     "output_type": "stream",
     "text": [
      "\n",
      "Keys: 4\n"
     ]
    }
   ],
   "source": [
    "#Examine first repository\n",
    "repo_dict = repo_dicts[6]\n",
    "print(\"\\nKeys:\", len(repo_dict))"
   ]
  },
  {
   "cell_type": "code",
   "execution_count": 19,
   "metadata": {},
   "outputs": [
    {
     "name": "stdout",
     "output_type": "stream",
     "text": [
      "{'OBJECTID': 9, 'code_elem': '010101', 'link': 'http://www.edline.net/pages/MET0101', 'Facility': 'METCALFE ELEMENTARY SCHOOL', 'Address': '1250 NE 18TH AV', 'Descrip': 'Duval(Grades PK-K),Metcalfe(Grades 1-5)', 'chk': 1}\n"
     ]
    }
   ],
   "source": [
    "print(repo_dict['properties'])"
   ]
  },
  {
   "cell_type": "code",
   "execution_count": 21,
   "metadata": {},
   "outputs": [
    {
     "name": "stdout",
     "output_type": "stream",
     "text": [
      "http://www.edline.net/pages/MET0101\n"
     ]
    }
   ],
   "source": [
    "properties_dict = repo_dict['properties']\n",
    "print(properties_dict['link'])"
   ]
  },
  {
   "cell_type": "code",
   "execution_count": 23,
   "metadata": {},
   "outputs": [
    {
     "ename": "TypeError",
     "evalue": "'list' object is not callable",
     "output_type": "error",
     "traceback": [
      "\u001b[0;31m---------------------------------------------------------------------------\u001b[0m",
      "\u001b[0;31mTypeError\u001b[0m                                 Traceback (most recent call last)",
      "\u001b[0;32m<ipython-input-23-516edc62e2ab>\u001b[0m in \u001b[0;36m<module>\u001b[0;34m()\u001b[0m\n\u001b[0;32m----> 1\u001b[0;31m \u001b[0;32mfor\u001b[0m \u001b[0mschool_properties\u001b[0m \u001b[0;32min\u001b[0m \u001b[0mrepo_dicts\u001b[0m\u001b[0;34m(\u001b[0m\u001b[0;34m)\u001b[0m\u001b[0;34m:\u001b[0m\u001b[0;34m\u001b[0m\u001b[0m\n\u001b[0m\u001b[1;32m      2\u001b[0m     \u001b[0mprint\u001b[0m\u001b[0;34m(\u001b[0m\u001b[0mrepo_dict\u001b[0m\u001b[0;34m[\u001b[0m\u001b[0;34m'properties'\u001b[0m\u001b[0;34m]\u001b[0m\u001b[0;34m)\u001b[0m\u001b[0;34m\u001b[0m\u001b[0m\n",
      "\u001b[0;31mTypeError\u001b[0m: 'list' object is not callable"
     ]
    }
   ],
   "source": [
    "for school_properties in repo_dicts():\n",
    "    print(repo_dict['properties'])"
   ]
  },
  {
   "cell_type": "code",
   "execution_count": null,
   "metadata": {},
   "outputs": [],
   "source": []
  }
 ],
 "metadata": {
  "kernelspec": {
   "display_name": "Python 3",
   "language": "python",
   "name": "python3"
  },
  "language_info": {
   "codemirror_mode": {
    "name": "ipython",
    "version": 3
   },
   "file_extension": ".py",
   "mimetype": "text/x-python",
   "name": "python",
   "nbconvert_exporter": "python",
   "pygments_lexer": "ipython3",
   "version": "3.6.5"
  }
 },
 "nbformat": 4,
 "nbformat_minor": 2
}
